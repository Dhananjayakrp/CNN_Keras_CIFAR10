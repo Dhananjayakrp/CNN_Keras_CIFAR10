{
  "nbformat": 4,
  "nbformat_minor": 0,
  "metadata": {
    "colab": {
      "provenance": []
    },
    "kernelspec": {
      "name": "python3",
      "display_name": "Python 3"
    },
    "language_info": {
      "name": "python"
    },
    "accelerator": "GPU",
    "gpuClass": "standard"
  },
  "cells": [
    {
      "cell_type": "code",
      "execution_count": null,
      "metadata": {
        "id": "GpS381dr-D6X"
      },
      "outputs": [],
      "source": [
        "#!pip install tensorflow"
      ]
    },
    {
      "cell_type": "code",
      "source": [
        "import numpy as np\n",
        "np.random.seed(10)"
      ],
      "metadata": {
        "id": "-AyY1DMCa5Pf"
      },
      "execution_count": 27,
      "outputs": []
    },
    {
      "cell_type": "code",
      "source": [
        "from tensorflow.keras.datasets import cifar10\n",
        "from tensorflow.keras.utils import to_categorical\n",
        "(train_images, train_labels), (test_images, test_labels) = cifar10.load_data()\n",
        "train_images = train_images.reshape((50000, 32, 32, 3))\n",
        "train_images = train_images.astype('float32') / 255\n",
        "test_images = test_images.reshape((10000, 32, 32, 3))\n",
        "test_images = test_images.astype('float32') / 255\n",
        "train_labels = to_categorical(train_labels)\n",
        "test_labels = to_categorical(test_labels)"
      ],
      "metadata": {
        "id": "_ITHPP_Y-Q24"
      },
      "execution_count": 28,
      "outputs": []
    },
    {
      "cell_type": "code",
      "source": [
        "from tensorflow.keras import layers\n",
        "from tensorflow.keras.models import Sequential\n",
        "\n",
        "model = Sequential()\n",
        "model.add(layers.Conv2D(32, (3, 3), activation='relu', input_shape = (32, 32, 3)))\n",
        "model.add(layers.MaxPooling2D((2, 2)))\n",
        "model.add(layers.Conv2D(64, (3, 3), activation='relu'))\n",
        "model.add(layers.MaxPooling2D((2, 2)))\n",
        "model.add(layers.Conv2D(64, (3, 3), activation='relu'))\n",
        "model.summary()\n",
        "\n",
        "model.add(layers.Flatten())\n",
        "model.add(layers.Dense(64, activation = 'relu'))\n",
        "model.add(layers.Dense(10, activation = 'softmax'))\n",
        "model.summary"
      ],
      "metadata": {
        "colab": {
          "base_uri": "https://localhost:8080/"
        },
        "id": "_xi4a-E2DaQ4",
        "outputId": "b1c3aa0b-2fd9-4d49-a809-426b00895538"
      },
      "execution_count": 29,
      "outputs": [
        {
          "output_type": "stream",
          "name": "stdout",
          "text": [
            "Model: \"sequential_3\"\n",
            "_________________________________________________________________\n",
            " Layer (type)                Output Shape              Param #   \n",
            "=================================================================\n",
            " conv2d_9 (Conv2D)           (None, 30, 30, 32)        896       \n",
            "                                                                 \n",
            " max_pooling2d_6 (MaxPooling  (None, 15, 15, 32)       0         \n",
            " 2D)                                                             \n",
            "                                                                 \n",
            " conv2d_10 (Conv2D)          (None, 13, 13, 64)        18496     \n",
            "                                                                 \n",
            " max_pooling2d_7 (MaxPooling  (None, 6, 6, 64)         0         \n",
            " 2D)                                                             \n",
            "                                                                 \n",
            " conv2d_11 (Conv2D)          (None, 4, 4, 64)          36928     \n",
            "                                                                 \n",
            "=================================================================\n",
            "Total params: 56,320\n",
            "Trainable params: 56,320\n",
            "Non-trainable params: 0\n",
            "_________________________________________________________________\n"
          ]
        },
        {
          "output_type": "execute_result",
          "data": {
            "text/plain": [
              "<bound method Model.summary of <keras.engine.sequential.Sequential object at 0x7fb46046d730>>"
            ]
          },
          "metadata": {},
          "execution_count": 29
        }
      ]
    },
    {
      "cell_type": "code",
      "source": [
        "model.compile(optimizer='adam', loss='categorical_crossentropy', metrics=['accuracy'])\n",
        "model.fit(train_images, train_labels, epochs=20, batch_size=100)\n",
        "test_loss, test_acc = model.evaluate(test_images, test_labels)\n",
        "test_acc"
      ],
      "metadata": {
        "colab": {
          "base_uri": "https://localhost:8080/"
        },
        "id": "PTWnOTXgHWNx",
        "outputId": "cdf1229c-0085-47bd-9f12-050d4df63ab8"
      },
      "execution_count": 30,
      "outputs": [
        {
          "output_type": "stream",
          "name": "stdout",
          "text": [
            "Epoch 1/20\n",
            "500/500 [==============================] - 4s 6ms/step - loss: 1.6633 - accuracy: 0.3902\n",
            "Epoch 2/20\n",
            "500/500 [==============================] - 3s 6ms/step - loss: 1.2913 - accuracy: 0.5394\n",
            "Epoch 3/20\n",
            "500/500 [==============================] - 2s 5ms/step - loss: 1.1357 - accuracy: 0.6011\n",
            "Epoch 4/20\n",
            "500/500 [==============================] - 2s 5ms/step - loss: 1.0419 - accuracy: 0.6357\n",
            "Epoch 5/20\n",
            "500/500 [==============================] - 3s 5ms/step - loss: 0.9698 - accuracy: 0.6618\n",
            "Epoch 6/20\n",
            "500/500 [==============================] - 3s 6ms/step - loss: 0.9016 - accuracy: 0.6855\n",
            "Epoch 7/20\n",
            "500/500 [==============================] - 3s 6ms/step - loss: 0.8481 - accuracy: 0.7049\n",
            "Epoch 8/20\n",
            "500/500 [==============================] - 2s 5ms/step - loss: 0.8068 - accuracy: 0.7197\n",
            "Epoch 9/20\n",
            "500/500 [==============================] - 2s 5ms/step - loss: 0.7671 - accuracy: 0.7353\n",
            "Epoch 10/20\n",
            "500/500 [==============================] - 2s 5ms/step - loss: 0.7351 - accuracy: 0.7457\n",
            "Epoch 11/20\n",
            "500/500 [==============================] - 3s 7ms/step - loss: 0.6987 - accuracy: 0.7585\n",
            "Epoch 12/20\n",
            "500/500 [==============================] - 2s 5ms/step - loss: 0.6731 - accuracy: 0.7646\n",
            "Epoch 13/20\n",
            "500/500 [==============================] - 2s 5ms/step - loss: 0.6422 - accuracy: 0.7783\n",
            "Epoch 14/20\n",
            "500/500 [==============================] - 2s 5ms/step - loss: 0.6166 - accuracy: 0.7856\n",
            "Epoch 15/20\n",
            "500/500 [==============================] - 2s 5ms/step - loss: 0.5920 - accuracy: 0.7936\n",
            "Epoch 16/20\n",
            "500/500 [==============================] - 3s 6ms/step - loss: 0.5726 - accuracy: 0.7992\n",
            "Epoch 17/20\n",
            "500/500 [==============================] - 2s 5ms/step - loss: 0.5484 - accuracy: 0.8085\n",
            "Epoch 18/20\n",
            "500/500 [==============================] - 2s 5ms/step - loss: 0.5263 - accuracy: 0.8153\n",
            "Epoch 19/20\n",
            "500/500 [==============================] - 2s 5ms/step - loss: 0.5037 - accuracy: 0.8249\n",
            "Epoch 20/20\n",
            "500/500 [==============================] - 3s 5ms/step - loss: 0.4883 - accuracy: 0.8278\n",
            "313/313 [==============================] - 1s 3ms/step - loss: 0.9331 - accuracy: 0.7112\n"
          ]
        },
        {
          "output_type": "execute_result",
          "data": {
            "text/plain": [
              "0.7111999988555908"
            ]
          },
          "metadata": {},
          "execution_count": 30
        }
      ]
    }
  ]
}